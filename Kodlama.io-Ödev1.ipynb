{
 "cells": [
  {
   "cell_type": "markdown",
   "id": "9d4a1fc9",
   "metadata": {},
   "source": [
    "## Python'da Veri Tiplerini araştırınız, her bir veri tipi için kendi cümlelerinizle açıklamalar yazınız.\n",
    "\n",
    "**string** : Yazı tipidir.String veri tipini kullanmak istediğimizde çift tırnak ( “” )içinde kullanmalıyız.\n",
    "**İnteger** :(tam sayı) veri tipidir.  Tam sayı tanımlanırken kullanılır.\n",
    "**Float**: (ondalıklı sayı)  veri tipidir.  Ondalıklı sayı tanımlanırken kullanılır.\n",
    "**Boolean**: True ve  False değeri alabilen veri tipidir. Genelde mantıksal kararlar verirken karşımıza çıkar.\n",
    "\n",
    " **list**: Birden fazla değeri teki bir değişken içerisinde tutmak için kullanılır farklı veri tiplerini barındırabilir. Köşeli parantez ile kullanılır.\n",
    " \n",
    "\n",
    "\n"
   ]
  },
  {
   "cell_type": "markdown",
   "id": "892507c4",
   "metadata": {},
   "source": [
    "# Kodlama.io sitesinde değişken olarak kullanıldığını düşündüğünüz verileri, veri tipleriyle birlikte örneklendiriniz.\n",
    "\n",
    "1-)  yorum sayısı: int\n",
    "2-) profildeki çıkış yap  butonu: bool\n"
   ]
  },
  {
   "cell_type": "code",
   "execution_count": 1,
   "id": "22eaecb8",
   "metadata": {},
   "outputs": [
    {
     "name": "stdout",
     "output_type": "stream",
     "text": [
      "KullanıcıAdi:mehmet\n",
      "Sifre:12345\n",
      "Giriş Başarılı\n"
     ]
    }
   ],
   "source": [
    "# Kodlama.io sitesinde şart blokları kullanıldığını düşündüğünüz kısımları örneklendiriniz ve \n",
    "#  Python dilinde bu örnekleri koda dökünüz.\n",
    "\n",
    "\n",
    "KullanıcıAdi= \"mehmet\"\n",
    "Sifre= \"12345\"\n",
    "KullanıcıAdi=input(\"KullanıcıAdi:\")\n",
    "Sifre=input(\"Sifre:\")\n",
    "if (\"KullanıciAdi==inputkullanıciAdi\") and (\"şifre==inputsifre\"):\n",
    " print(\"Giriş Başarılı\")\n",
    "else:\n",
    " print(\"Kullanıcı Adı ya da Şifre Yanlış…\")"
   ]
  }
 ],
 "metadata": {
  "kernelspec": {
   "display_name": "Python 3 (ipykernel)",
   "language": "python",
   "name": "python3"
  },
  "language_info": {
   "codemirror_mode": {
    "name": "ipython",
    "version": 3
   },
   "file_extension": ".py",
   "mimetype": "text/x-python",
   "name": "python",
   "nbconvert_exporter": "python",
   "pygments_lexer": "ipython3",
   "version": "3.9.12"
  }
 },
 "nbformat": 4,
 "nbformat_minor": 5
}
