{
 "cells": [
  {
   "cell_type": "code",
   "execution_count": 5,
   "id": "b4a45e22",
   "metadata": {},
   "outputs": [],
   "source": [
    "ogrenciler = [\"orhan mavigok\", \"ismail bolat\", \"zeynep polat\"]\n",
    "def sonuc():\n",
    "    print(ogrenciler)"
   ]
  },
  {
   "cell_type": "code",
   "execution_count": 6,
   "id": "9815d894",
   "metadata": {},
   "outputs": [
    {
     "name": "stdout",
     "output_type": "stream",
     "text": [
      "['orhan mavigok', 'ismail bolat', 'zeynep polat']\n"
     ]
    }
   ],
   "source": [
    "sonuc()"
   ]
  },
  {
   "cell_type": "code",
   "execution_count": 3,
   "id": "cea8d7df",
   "metadata": {},
   "outputs": [],
   "source": [
    "# Aldığı isim soy isim ile listeye öğrenci ekleyen\n",
    "def ogrenciEkle ():\n",
    "    ogrenci = input (\"İsim ve soyisim giriniz: \")\n",
    "    ogrenciler.append(ogrenci)\n",
    "    sonuc()"
   ]
  },
  {
   "cell_type": "code",
   "execution_count": 7,
   "id": "f1c53cf3",
   "metadata": {},
   "outputs": [
    {
     "name": "stdout",
     "output_type": "stream",
     "text": [
      "İsim ve soyisim giriniz: bekir dag\n",
      "['orhan mavigok', 'ismail bolat', 'zeynep polat', 'bekir dag']\n"
     ]
    }
   ],
   "source": [
    "ogrenciEkle()"
   ]
  },
  {
   "cell_type": "code",
   "execution_count": 8,
   "id": "38ffdc91",
   "metadata": {},
   "outputs": [
    {
     "name": "stdout",
     "output_type": "stream",
     "text": [
      "Kayıdı silinecek öğrenci isim ve soyadı: ismail bolat\n",
      "['orhan mavigok', 'zeynep polat', 'bekir dag']\n"
     ]
    }
   ],
   "source": [
    "## Aldığı isim soy isim ile eşleşen değeri listeden kaldıran\n",
    "def ogrenciSil ():\n",
    "    ogrenci = input (\"Kayıdı silinecek öğrenci isim ve soyadı: \")\n",
    "    ogrenciler.remove(ogrenci)\n",
    "    sonuc()\n",
    "ogrenciSil()"
   ]
  },
  {
   "cell_type": "code",
   "execution_count": 12,
   "id": "f5b30808",
   "metadata": {},
   "outputs": [],
   "source": [
    "##Listeye birden fazla öğrenci eklemeyi mümkün kılan\n",
    "def cokluOgrenciEkleme ():\n",
    "    adet = input (\"Kaç adet öğrenci eklenecektir: \")\n",
    "    i = 0\n",
    "    while i<int(adet) :\n",
    "        ogrenci = input (\"İsim ve soyisim giriniz: \")\n",
    "        ogrenciler.append(ogrenci)\n",
    "        if i == adet:\n",
    "            break\n",
    "        i +=1\n",
    "    sonuc()\n",
    "#cokluOgrenciEkleme()"
   ]
  },
  {
   "cell_type": "code",
   "execution_count": 13,
   "id": "5739eb6c",
   "metadata": {},
   "outputs": [
    {
     "name": "stdout",
     "output_type": "stream",
     "text": [
      "Kaç adet öğrenci eklenecektir: 3\n",
      "İsim ve soyisim giriniz: rıza altun\n",
      "İsim ve soyisim giriniz: banu kades\n",
      "İsim ve soyisim giriniz: eda copur\n",
      "['orhan mavigok', 'zeynep polat', 'bekir dag', 'rıza altun', 'banu kades', 'eda copur']\n"
     ]
    }
   ],
   "source": [
    "cokluOgrenciEkleme()"
   ]
  },
  {
   "cell_type": "code",
   "execution_count": 14,
   "id": "e44b1931",
   "metadata": {},
   "outputs": [],
   "source": [
    "##Listedeki tüm öğrencileri tek tek ekrana yazdıran\n",
    "def ogrenciListesi():\n",
    "    i=0\n",
    "    lstAdt = len(ogrenciler)\n",
    "    while i<lstAdt:\n",
    "        print(ogrenciler[i])\n",
    "        if i == lstAdt:\n",
    "            break\n",
    "        i +=1\n",
    "#ogrenciListesi()"
   ]
  },
  {
   "cell_type": "code",
   "execution_count": 15,
   "id": "b0dd8fc5",
   "metadata": {},
   "outputs": [
    {
     "name": "stdout",
     "output_type": "stream",
     "text": [
      "orhan mavigok\n",
      "zeynep polat\n",
      "bekir dag\n",
      "rıza altun\n",
      "banu kades\n",
      "eda copur\n"
     ]
    }
   ],
   "source": [
    "ogrenciListesi()"
   ]
  },
  {
   "cell_type": "code",
   "execution_count": 16,
   "id": "d5003773",
   "metadata": {},
   "outputs": [],
   "source": [
    "##Öğrencinin listedeki index numarası öğrenci numarası olarak kabul edildiğini düşünerek öğrencinin numarasını öğrenmeyi mümkün kılan\n",
    "def ogrenciNo ():\n",
    "    ogrenci = input(\"İsim ve soyisim giriniz: \")\n",
    "    print(ogrenciler.index(ogrenci))\n",
    "#ogrenciNo()"
   ]
  },
  {
   "cell_type": "code",
   "execution_count": 17,
   "id": "cbc41a94",
   "metadata": {},
   "outputs": [
    {
     "name": "stdout",
     "output_type": "stream",
     "text": [
      "İsim ve soyisim giriniz: zeynep polat\n",
      "1\n"
     ]
    }
   ],
   "source": [
    "ogrenciNo()"
   ]
  },
  {
   "cell_type": "code",
   "execution_count": 18,
   "id": "2a48ca39",
   "metadata": {},
   "outputs": [
    {
     "name": "stdout",
     "output_type": "stream",
     "text": [
      "Kaç adet öğrenci silinecektir: 2\n",
      "İsim ve soyisim giriniz: bekir dag\n",
      "İsim ve soyisim giriniz: rıza altun\n",
      "['orhan mavigok', 'zeynep polat', 'banu kades', 'eda copur']\n"
     ]
    }
   ],
   "source": [
    "##Listeden birden fazla öğrenci silmeyi mümkün kılan (döngü kullanınız)\n",
    "def cokluOgrenciSilme ():\n",
    "    adet = input (\"Kaç adet öğrenci silinecektir: \")\n",
    "    i = 0\n",
    "    while i<int(adet) :\n",
    "        ogrenci = input (\"İsim ve soyisim giriniz: \")\n",
    "        ogrenciler.remove(ogrenci)\n",
    "        if i == adet:\n",
    "            break\n",
    "        i +=1\n",
    "    sonuc()\n",
    "cokluOgrenciSilme()"
   ]
  },
  {
   "cell_type": "code",
   "execution_count": null,
   "id": "fd286ee8",
   "metadata": {},
   "outputs": [],
   "source": []
  }
 ],
 "metadata": {
  "kernelspec": {
   "display_name": "Python 3 (ipykernel)",
   "language": "python",
   "name": "python3"
  },
  "language_info": {
   "codemirror_mode": {
    "name": "ipython",
    "version": 3
   },
   "file_extension": ".py",
   "mimetype": "text/x-python",
   "name": "python",
   "nbconvert_exporter": "python",
   "pygments_lexer": "ipython3",
   "version": "3.9.12"
  }
 },
 "nbformat": 4,
 "nbformat_minor": 5
}
